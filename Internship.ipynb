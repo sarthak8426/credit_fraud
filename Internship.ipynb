{
 "cells": [
  {
   "cell_type": "markdown",
   "id": "d2be06a3",
   "metadata": {},
   "source": [
    "## Importing Libraries"
   ]
  },
  {
   "cell_type": "code",
   "execution_count": 1,
   "id": "de2f8e17",
   "metadata": {},
   "outputs": [],
   "source": [
    "import os\n",
    "import numpy as np\n",
    "import pandas as pd\n",
    "import matplotlib.pyplot as plt \n",
    "import seaborn as sns\n",
    "from sklearn.model_selection import train_test_split\n",
    "from sklearn import metrics\n",
    "from sklearn.linear_model import LogisticRegression"
   ]
  },
  {
   "cell_type": "markdown",
   "id": "fdb429f8",
   "metadata": {},
   "source": [
    "## Reading Data set"
   ]
  },
  {
   "cell_type": "code",
   "execution_count": 2,
   "id": "17dbb23a",
   "metadata": {},
   "outputs": [],
   "source": [
    "df=pd.read_csv(\"Fraud.csv\")"
   ]
  },
  {
   "cell_type": "code",
   "execution_count": 3,
   "id": "e0512a35",
   "metadata": {},
   "outputs": [
    {
     "data": {
      "text/html": [
       "<div>\n",
       "<style scoped>\n",
       "    .dataframe tbody tr th:only-of-type {\n",
       "        vertical-align: middle;\n",
       "    }\n",
       "\n",
       "    .dataframe tbody tr th {\n",
       "        vertical-align: top;\n",
       "    }\n",
       "\n",
       "    .dataframe thead th {\n",
       "        text-align: right;\n",
       "    }\n",
       "</style>\n",
       "<table border=\"1\" class=\"dataframe\">\n",
       "  <thead>\n",
       "    <tr style=\"text-align: right;\">\n",
       "      <th></th>\n",
       "      <th>step</th>\n",
       "      <th>type</th>\n",
       "      <th>amount</th>\n",
       "      <th>nameOrig</th>\n",
       "      <th>oldbalanceOrg</th>\n",
       "      <th>newbalanceOrig</th>\n",
       "      <th>nameDest</th>\n",
       "      <th>oldbalanceDest</th>\n",
       "      <th>newbalanceDest</th>\n",
       "      <th>isFraud</th>\n",
       "      <th>isFlaggedFraud</th>\n",
       "    </tr>\n",
       "  </thead>\n",
       "  <tbody>\n",
       "    <tr>\n",
       "      <th>4886093</th>\n",
       "      <td>348</td>\n",
       "      <td>CASH_OUT</td>\n",
       "      <td>441564.52</td>\n",
       "      <td>C1649878226</td>\n",
       "      <td>0.00</td>\n",
       "      <td>0.00</td>\n",
       "      <td>C487293888</td>\n",
       "      <td>2250897.83</td>\n",
       "      <td>2692462.35</td>\n",
       "      <td>0</td>\n",
       "      <td>0</td>\n",
       "    </tr>\n",
       "    <tr>\n",
       "      <th>1344773</th>\n",
       "      <td>137</td>\n",
       "      <td>PAYMENT</td>\n",
       "      <td>3532.28</td>\n",
       "      <td>C2015964106</td>\n",
       "      <td>0.00</td>\n",
       "      <td>0.00</td>\n",
       "      <td>M1787171407</td>\n",
       "      <td>0.00</td>\n",
       "      <td>0.00</td>\n",
       "      <td>0</td>\n",
       "      <td>0</td>\n",
       "    </tr>\n",
       "    <tr>\n",
       "      <th>3383435</th>\n",
       "      <td>255</td>\n",
       "      <td>PAYMENT</td>\n",
       "      <td>8133.48</td>\n",
       "      <td>C603624983</td>\n",
       "      <td>0.00</td>\n",
       "      <td>0.00</td>\n",
       "      <td>M1171531615</td>\n",
       "      <td>0.00</td>\n",
       "      <td>0.00</td>\n",
       "      <td>0</td>\n",
       "      <td>0</td>\n",
       "    </tr>\n",
       "    <tr>\n",
       "      <th>4580324</th>\n",
       "      <td>328</td>\n",
       "      <td>CASH_IN</td>\n",
       "      <td>46729.82</td>\n",
       "      <td>C2103894844</td>\n",
       "      <td>113702.00</td>\n",
       "      <td>160431.82</td>\n",
       "      <td>C1250942720</td>\n",
       "      <td>125893.20</td>\n",
       "      <td>79163.38</td>\n",
       "      <td>0</td>\n",
       "      <td>0</td>\n",
       "    </tr>\n",
       "    <tr>\n",
       "      <th>4081329</th>\n",
       "      <td>301</td>\n",
       "      <td>DEBIT</td>\n",
       "      <td>10477.95</td>\n",
       "      <td>C192122813</td>\n",
       "      <td>0.00</td>\n",
       "      <td>0.00</td>\n",
       "      <td>C757843656</td>\n",
       "      <td>1251166.27</td>\n",
       "      <td>1261644.21</td>\n",
       "      <td>0</td>\n",
       "      <td>0</td>\n",
       "    </tr>\n",
       "    <tr>\n",
       "      <th>2764976</th>\n",
       "      <td>213</td>\n",
       "      <td>PAYMENT</td>\n",
       "      <td>15645.81</td>\n",
       "      <td>C1337060512</td>\n",
       "      <td>126417.70</td>\n",
       "      <td>110771.89</td>\n",
       "      <td>M817345973</td>\n",
       "      <td>0.00</td>\n",
       "      <td>0.00</td>\n",
       "      <td>0</td>\n",
       "      <td>0</td>\n",
       "    </tr>\n",
       "    <tr>\n",
       "      <th>3898253</th>\n",
       "      <td>284</td>\n",
       "      <td>CASH_OUT</td>\n",
       "      <td>165264.79</td>\n",
       "      <td>C556732196</td>\n",
       "      <td>0.00</td>\n",
       "      <td>0.00</td>\n",
       "      <td>C823117986</td>\n",
       "      <td>491489.49</td>\n",
       "      <td>656754.28</td>\n",
       "      <td>0</td>\n",
       "      <td>0</td>\n",
       "    </tr>\n",
       "    <tr>\n",
       "      <th>1585879</th>\n",
       "      <td>155</td>\n",
       "      <td>CASH_IN</td>\n",
       "      <td>104169.87</td>\n",
       "      <td>C1653683379</td>\n",
       "      <td>4063144.46</td>\n",
       "      <td>4167314.33</td>\n",
       "      <td>C1983145441</td>\n",
       "      <td>209444.98</td>\n",
       "      <td>105275.12</td>\n",
       "      <td>0</td>\n",
       "      <td>0</td>\n",
       "    </tr>\n",
       "    <tr>\n",
       "      <th>1938424</th>\n",
       "      <td>177</td>\n",
       "      <td>TRANSFER</td>\n",
       "      <td>93426.77</td>\n",
       "      <td>C1107944623</td>\n",
       "      <td>0.00</td>\n",
       "      <td>0.00</td>\n",
       "      <td>C1769131415</td>\n",
       "      <td>621851.37</td>\n",
       "      <td>715278.14</td>\n",
       "      <td>0</td>\n",
       "      <td>0</td>\n",
       "    </tr>\n",
       "    <tr>\n",
       "      <th>1642490</th>\n",
       "      <td>157</td>\n",
       "      <td>CASH_IN</td>\n",
       "      <td>103208.64</td>\n",
       "      <td>C1606962683</td>\n",
       "      <td>62107.00</td>\n",
       "      <td>165315.64</td>\n",
       "      <td>C1676657523</td>\n",
       "      <td>0.00</td>\n",
       "      <td>0.00</td>\n",
       "      <td>0</td>\n",
       "      <td>0</td>\n",
       "    </tr>\n",
       "  </tbody>\n",
       "</table>\n",
       "</div>"
      ],
      "text/plain": [
       "         step      type     amount     nameOrig  oldbalanceOrg  \\\n",
       "4886093   348  CASH_OUT  441564.52  C1649878226           0.00   \n",
       "1344773   137   PAYMENT    3532.28  C2015964106           0.00   \n",
       "3383435   255   PAYMENT    8133.48   C603624983           0.00   \n",
       "4580324   328   CASH_IN   46729.82  C2103894844      113702.00   \n",
       "4081329   301     DEBIT   10477.95   C192122813           0.00   \n",
       "2764976   213   PAYMENT   15645.81  C1337060512      126417.70   \n",
       "3898253   284  CASH_OUT  165264.79   C556732196           0.00   \n",
       "1585879   155   CASH_IN  104169.87  C1653683379     4063144.46   \n",
       "1938424   177  TRANSFER   93426.77  C1107944623           0.00   \n",
       "1642490   157   CASH_IN  103208.64  C1606962683       62107.00   \n",
       "\n",
       "         newbalanceOrig     nameDest  oldbalanceDest  newbalanceDest  isFraud  \\\n",
       "4886093            0.00   C487293888      2250897.83      2692462.35        0   \n",
       "1344773            0.00  M1787171407            0.00            0.00        0   \n",
       "3383435            0.00  M1171531615            0.00            0.00        0   \n",
       "4580324       160431.82  C1250942720       125893.20        79163.38        0   \n",
       "4081329            0.00   C757843656      1251166.27      1261644.21        0   \n",
       "2764976       110771.89   M817345973            0.00            0.00        0   \n",
       "3898253            0.00   C823117986       491489.49       656754.28        0   \n",
       "1585879      4167314.33  C1983145441       209444.98       105275.12        0   \n",
       "1938424            0.00  C1769131415       621851.37       715278.14        0   \n",
       "1642490       165315.64  C1676657523            0.00            0.00        0   \n",
       "\n",
       "         isFlaggedFraud  \n",
       "4886093               0  \n",
       "1344773               0  \n",
       "3383435               0  \n",
       "4580324               0  \n",
       "4081329               0  \n",
       "2764976               0  \n",
       "3898253               0  \n",
       "1585879               0  \n",
       "1938424               0  \n",
       "1642490               0  "
      ]
     },
     "execution_count": 3,
     "metadata": {},
     "output_type": "execute_result"
    }
   ],
   "source": [
    "df.sample(10)"
   ]
  },
  {
   "cell_type": "code",
   "execution_count": 4,
   "id": "44bc5ccd",
   "metadata": {},
   "outputs": [
    {
     "name": "stdout",
     "output_type": "stream",
     "text": [
      "<class 'pandas.core.frame.DataFrame'>\n",
      "RangeIndex: 6362620 entries, 0 to 6362619\n",
      "Data columns (total 11 columns):\n",
      " #   Column          Dtype  \n",
      "---  ------          -----  \n",
      " 0   step            int64  \n",
      " 1   type            object \n",
      " 2   amount          float64\n",
      " 3   nameOrig        object \n",
      " 4   oldbalanceOrg   float64\n",
      " 5   newbalanceOrig  float64\n",
      " 6   nameDest        object \n",
      " 7   oldbalanceDest  float64\n",
      " 8   newbalanceDest  float64\n",
      " 9   isFraud         int64  \n",
      " 10  isFlaggedFraud  int64  \n",
      "dtypes: float64(5), int64(3), object(3)\n",
      "memory usage: 534.0+ MB\n"
     ]
    }
   ],
   "source": [
    "df.info()"
   ]
  },
  {
   "cell_type": "markdown",
   "id": "83280d4d",
   "metadata": {},
   "source": [
    "## EDA(exploratory data analysis)"
   ]
  },
  {
   "cell_type": "code",
   "execution_count": 5,
   "id": "7da2e8c5",
   "metadata": {},
   "outputs": [
    {
     "data": {
      "text/plain": [
       "0"
      ]
     },
     "execution_count": 5,
     "metadata": {},
     "output_type": "execute_result"
    }
   ],
   "source": [
    "# checking for the Duplicate rows \n",
    "df.duplicated().sum()"
   ]
  },
  {
   "cell_type": "code",
   "execution_count": 6,
   "id": "fe92de58",
   "metadata": {},
   "outputs": [
    {
     "data": {
      "text/plain": [
       "step              0\n",
       "type              0\n",
       "amount            0\n",
       "nameOrig          0\n",
       "oldbalanceOrg     0\n",
       "newbalanceOrig    0\n",
       "nameDest          0\n",
       "oldbalanceDest    0\n",
       "newbalanceDest    0\n",
       "isFraud           0\n",
       "isFlaggedFraud    0\n",
       "dtype: int64"
      ]
     },
     "execution_count": 6,
     "metadata": {},
     "output_type": "execute_result"
    }
   ],
   "source": [
    "# checking for null values in the data set\n",
    "df.isnull().sum()"
   ]
  },
  {
   "cell_type": "code",
   "execution_count": 7,
   "id": "7f9791c7",
   "metadata": {},
   "outputs": [
    {
     "data": {
      "text/plain": [
       "CASH_OUT    2237500\n",
       "PAYMENT     2151495\n",
       "CASH_IN     1399284\n",
       "TRANSFER     532909\n",
       "DEBIT         41432\n",
       "Name: type, dtype: int64"
      ]
     },
     "execution_count": 7,
     "metadata": {},
     "output_type": "execute_result"
    }
   ],
   "source": [
    "df[\"type\"].value_counts(dropna=False)"
   ]
  },
  {
   "cell_type": "code",
   "execution_count": 8,
   "id": "80dd8218",
   "metadata": {},
   "outputs": [
    {
     "data": {
      "text/plain": [
       "<AxesSubplot:>"
      ]
     },
     "execution_count": 8,
     "metadata": {},
     "output_type": "execute_result"
    },
    {
     "data": {
      "image/png": "[encoded data removed]",
      "text/plain": [
       "<Figure size 1080x360 with 1 Axes>"
      ]
     },
     "metadata": {
      "needs_background": "light"
     },
     "output_type": "display_data"
    }
   ],
   "source": [
    "df[\"type\"].value_counts().plot.bar(figsize=(15,5))"
   ]
  },
  {
   "cell_type": "markdown",
   "id": "6cc736c0",
   "metadata": {},
   "source": [
    "## Checking for Outliers by percentile method"
   ]
  },
  {
   "cell_type": "code",
   "execution_count": 10,
   "id": "a4b3ba30",
   "metadata": {},
   "outputs": [
    {
     "data": {
      "text/html": [
       "<div>\n",
       "<style scoped>\n",
       "    .dataframe tbody tr th:only-of-type {\n",
       "        vertical-align: middle;\n",
       "    }\n",
       "\n",
       "    .dataframe tbody tr th {\n",
       "        vertical-align: top;\n",
       "    }\n",
       "\n",
       "    .dataframe thead th {\n",
       "        text-align: right;\n",
       "    }\n",
       "</style>\n",
       "<table border=\"1\" class=\"dataframe\">\n",
       "  <thead>\n",
       "    <tr style=\"text-align: right;\">\n",
       "      <th></th>\n",
       "      <th>count</th>\n",
       "      <th>mean</th>\n",
       "      <th>std</th>\n",
       "      <th>min</th>\n",
       "      <th>1%</th>\n",
       "      <th>2%</th>\n",
       "      <th>3%</th>\n",
       "      <th>4%</th>\n",
       "      <th>5%</th>\n",
       "      <th>10%</th>\n",
       "      <th>...</th>\n",
       "      <th>75%</th>\n",
       "      <th>80%</th>\n",
       "      <th>85%</th>\n",
       "      <th>90%</th>\n",
       "      <th>95%</th>\n",
       "      <th>96%</th>\n",
       "      <th>97%</th>\n",
       "      <th>98%</th>\n",
       "      <th>99%</th>\n",
       "      <th>max</th>\n",
       "    </tr>\n",
       "  </thead>\n",
       "  <tbody>\n",
       "    <tr>\n",
       "      <th>step</th>\n",
       "      <td>6362620.0</td>\n",
       "      <td>2.433972e+02</td>\n",
       "      <td>1.423320e+02</td>\n",
       "      <td>1.0</td>\n",
       "      <td>9.0000</td>\n",
       "      <td>11.00</td>\n",
       "      <td>13.00</td>\n",
       "      <td>14.00</td>\n",
       "      <td>16.0000</td>\n",
       "      <td>35.0</td>\n",
       "      <td>...</td>\n",
       "      <td>3.350000e+02</td>\n",
       "      <td>355.000</td>\n",
       "      <td>3.780000e+02</td>\n",
       "      <td>399.000</td>\n",
       "      <td>4.900000e+02</td>\n",
       "      <td>5.250000e+02</td>\n",
       "      <td>5.630000e+02</td>\n",
       "      <td>5.940000e+02</td>\n",
       "      <td>6.810000e+02</td>\n",
       "      <td>7.430000e+02</td>\n",
       "    </tr>\n",
       "    <tr>\n",
       "      <th>amount</th>\n",
       "      <td>6362620.0</td>\n",
       "      <td>1.798619e+05</td>\n",
       "      <td>6.038582e+05</td>\n",
       "      <td>0.0</td>\n",
       "      <td>449.4676</td>\n",
       "      <td>892.52</td>\n",
       "      <td>1335.67</td>\n",
       "      <td>1781.77</td>\n",
       "      <td>2224.0995</td>\n",
       "      <td>4501.3</td>\n",
       "      <td>...</td>\n",
       "      <td>2.087215e+05</td>\n",
       "      <td>246611.220</td>\n",
       "      <td>2.949193e+05</td>\n",
       "      <td>365423.309</td>\n",
       "      <td>5.186342e+05</td>\n",
       "      <td>5.940031e+05</td>\n",
       "      <td>7.364271e+05</td>\n",
       "      <td>1.019958e+06</td>\n",
       "      <td>1.615979e+06</td>\n",
       "      <td>9.244552e+07</td>\n",
       "    </tr>\n",
       "    <tr>\n",
       "      <th>oldbalanceOrg</th>\n",
       "      <td>6362620.0</td>\n",
       "      <td>8.338831e+05</td>\n",
       "      <td>2.888243e+06</td>\n",
       "      <td>0.0</td>\n",
       "      <td>0.0000</td>\n",
       "      <td>0.00</td>\n",
       "      <td>0.00</td>\n",
       "      <td>0.00</td>\n",
       "      <td>0.0000</td>\n",
       "      <td>0.0</td>\n",
       "      <td>...</td>\n",
       "      <td>1.073152e+05</td>\n",
       "      <td>198632.000</td>\n",
       "      <td>4.014821e+05</td>\n",
       "      <td>1822508.289</td>\n",
       "      <td>5.823702e+06</td>\n",
       "      <td>7.006676e+06</td>\n",
       "      <td>8.454913e+06</td>\n",
       "      <td>1.056632e+07</td>\n",
       "      <td>1.602726e+07</td>\n",
       "      <td>5.958504e+07</td>\n",
       "    </tr>\n",
       "    <tr>\n",
       "      <th>newbalanceOrig</th>\n",
       "      <td>6362620.0</td>\n",
       "      <td>8.551137e+05</td>\n",
       "      <td>2.924049e+06</td>\n",
       "      <td>0.0</td>\n",
       "      <td>0.0000</td>\n",
       "      <td>0.00</td>\n",
       "      <td>0.00</td>\n",
       "      <td>0.00</td>\n",
       "      <td>0.0000</td>\n",
       "      <td>0.0</td>\n",
       "      <td>...</td>\n",
       "      <td>1.442584e+05</td>\n",
       "      <td>246708.080</td>\n",
       "      <td>4.463039e+05</td>\n",
       "      <td>1970344.793</td>\n",
       "      <td>5.980262e+06</td>\n",
       "      <td>7.162968e+06</td>\n",
       "      <td>8.608552e+06</td>\n",
       "      <td>1.072157e+07</td>\n",
       "      <td>1.617616e+07</td>\n",
       "      <td>4.958504e+07</td>\n",
       "    </tr>\n",
       "    <tr>\n",
       "      <th>oldbalanceDest</th>\n",
       "      <td>6362620.0</td>\n",
       "      <td>1.100702e+06</td>\n",
       "      <td>3.399180e+06</td>\n",
       "      <td>0.0</td>\n",
       "      <td>0.0000</td>\n",
       "      <td>0.00</td>\n",
       "      <td>0.00</td>\n",
       "      <td>0.00</td>\n",
       "      <td>0.0000</td>\n",
       "      <td>0.0</td>\n",
       "      <td>...</td>\n",
       "      <td>9.430367e+05</td>\n",
       "      <td>1322204.406</td>\n",
       "      <td>1.902566e+06</td>\n",
       "      <td>2914266.669</td>\n",
       "      <td>5.147230e+06</td>\n",
       "      <td>6.019517e+06</td>\n",
       "      <td>7.280750e+06</td>\n",
       "      <td>9.174818e+06</td>\n",
       "      <td>1.237182e+07</td>\n",
       "      <td>3.560159e+08</td>\n",
       "    </tr>\n",
       "    <tr>\n",
       "      <th>newbalanceDest</th>\n",
       "      <td>6362620.0</td>\n",
       "      <td>1.224996e+06</td>\n",
       "      <td>3.674129e+06</td>\n",
       "      <td>0.0</td>\n",
       "      <td>0.0000</td>\n",
       "      <td>0.00</td>\n",
       "      <td>0.00</td>\n",
       "      <td>0.00</td>\n",
       "      <td>0.0000</td>\n",
       "      <td>0.0</td>\n",
       "      <td>...</td>\n",
       "      <td>1.111909e+06</td>\n",
       "      <td>1517362.866</td>\n",
       "      <td>2.133562e+06</td>\n",
       "      <td>3194869.671</td>\n",
       "      <td>5.515716e+06</td>\n",
       "      <td>6.425938e+06</td>\n",
       "      <td>7.718976e+06</td>\n",
       "      <td>9.665657e+06</td>\n",
       "      <td>1.313787e+07</td>\n",
       "      <td>3.561793e+08</td>\n",
       "    </tr>\n",
       "    <tr>\n",
       "      <th>isFraud</th>\n",
       "      <td>6362620.0</td>\n",
       "      <td>1.290820e-03</td>\n",
       "      <td>3.590480e-02</td>\n",
       "      <td>0.0</td>\n",
       "      <td>0.0000</td>\n",
       "      <td>0.00</td>\n",
       "      <td>0.00</td>\n",
       "      <td>0.00</td>\n",
       "      <td>0.0000</td>\n",
       "      <td>0.0</td>\n",
       "      <td>...</td>\n",
       "      <td>0.000000e+00</td>\n",
       "      <td>0.000</td>\n",
       "      <td>0.000000e+00</td>\n",
       "      <td>0.000</td>\n",
       "      <td>0.000000e+00</td>\n",
       "      <td>0.000000e+00</td>\n",
       "      <td>0.000000e+00</td>\n",
       "      <td>0.000000e+00</td>\n",
       "      <td>0.000000e+00</td>\n",
       "      <td>1.000000e+00</td>\n",
       "    </tr>\n",
       "    <tr>\n",
       "      <th>isFlaggedFraud</th>\n",
       "      <td>6362620.0</td>\n",
       "      <td>2.514687e-06</td>\n",
       "      <td>1.585775e-03</td>\n",
       "      <td>0.0</td>\n",
       "      <td>0.0000</td>\n",
       "      <td>0.00</td>\n",
       "      <td>0.00</td>\n",
       "      <td>0.00</td>\n",
       "      <td>0.0000</td>\n",
       "      <td>0.0</td>\n",
       "      <td>...</td>\n",
       "      <td>0.000000e+00</td>\n",
       "      <td>0.000</td>\n",
       "      <td>0.000000e+00</td>\n",
       "      <td>0.000</td>\n",
       "      <td>0.000000e+00</td>\n",
       "      <td>0.000000e+00</td>\n",
       "      <td>0.000000e+00</td>\n",
       "      <td>0.000000e+00</td>\n",
       "      <td>0.000000e+00</td>\n",
       "      <td>1.000000e+00</td>\n",
       "    </tr>\n",
       "  </tbody>\n",
       "</table>\n",
       "<p>8 rows × 27 columns</p>\n",
       "</div>"
      ],
      "text/plain": [
       "                    count          mean           std  min        1%      2%  \\\n",
       "step            6362620.0  2.433972e+02  1.423320e+02  1.0    9.0000   11.00   \n",
       "amount          6362620.0  1.798619e+05  6.038582e+05  0.0  449.4676  892.52   \n",
       "oldbalanceOrg   6362620.0  8.338831e+05  2.888243e+06  0.0    0.0000    0.00   \n",
       "newbalanceOrig  6362620.0  8.551137e+05  2.924049e+06  0.0    0.0000    0.00   \n",
       "oldbalanceDest  6362620.0  1.100702e+06  3.399180e+06  0.0    0.0000    0.00   \n",
       "newbalanceDest  6362620.0  1.224996e+06  3.674129e+06  0.0    0.0000    0.00   \n",
       "isFraud         6362620.0  1.290820e-03  3.590480e-02  0.0    0.0000    0.00   \n",
       "isFlaggedFraud  6362620.0  2.514687e-06  1.585775e-03  0.0    0.0000    0.00   \n",
       "\n",
       "                     3%       4%         5%     10%  ...           75%  \\\n",
       "step              13.00    14.00    16.0000    35.0  ...  3.350000e+02   \n",
       "amount          1335.67  1781.77  2224.0995  4501.3  ...  2.087215e+05   \n",
       "oldbalanceOrg      0.00     0.00     0.0000     0.0  ...  1.073152e+05   \n",
       "newbalanceOrig     0.00     0.00     0.0000     0.0  ...  1.442584e+05   \n",
       "oldbalanceDest     0.00     0.00     0.0000     0.0  ...  9.430367e+05   \n",
       "newbalanceDest     0.00     0.00     0.0000     0.0  ...  1.111909e+06   \n",
       "isFraud            0.00     0.00     0.0000     0.0  ...  0.000000e+00   \n",
       "isFlaggedFraud     0.00     0.00     0.0000     0.0  ...  0.000000e+00   \n",
       "\n",
       "                        80%           85%          90%           95%  \\\n",
       "step                355.000  3.780000e+02      399.000  4.900000e+02   \n",
       "amount           246611.220  2.949193e+05   365423.309  5.186342e+05   \n",
       "oldbalanceOrg    198632.000  4.014821e+05  1822508.289  5.823702e+06   \n",
       "newbalanceOrig   246708.080  4.463039e+05  1970344.793  5.980262e+06   \n",
       "oldbalanceDest  1322204.406  1.902566e+06  2914266.669  5.147230e+06   \n",
       "newbalanceDest  1517362.866  2.133562e+06  3194869.671  5.515716e+06   \n",
       "isFraud               0.000  0.000000e+00        0.000  0.000000e+00   \n",
       "isFlaggedFraud        0.000  0.000000e+00        0.000  0.000000e+00   \n",
       "\n",
       "                         96%           97%           98%           99%  \\\n",
       "step            5.250000e+02  5.630000e+02  5.940000e+02  6.810000e+02   \n",
       "amount          5.940031e+05  7.364271e+05  1.019958e+06  1.615979e+06   \n",
       "oldbalanceOrg   7.006676e+06  8.454913e+06  1.056632e+07  1.602726e+07   \n",
       "newbalanceOrig  7.162968e+06  8.608552e+06  1.072157e+07  1.617616e+07   \n",
       "oldbalanceDest  6.019517e+06  7.280750e+06  9.174818e+06  1.237182e+07   \n",
       "newbalanceDest  6.425938e+06  7.718976e+06  9.665657e+06  1.313787e+07   \n",
       "isFraud         0.000000e+00  0.000000e+00  0.000000e+00  0.000000e+00   \n",
       "isFlaggedFraud  0.000000e+00  0.000000e+00  0.000000e+00  0.000000e+00   \n",
       "\n",
       "                         max  \n",
       "step            7.430000e+02  \n",
       "amount          9.244552e+07  \n",
       "oldbalanceOrg   5.958504e+07  \n",
       "newbalanceOrig  4.958504e+07  \n",
       "oldbalanceDest  3.560159e+08  \n",
       "newbalanceDest  3.561793e+08  \n",
       "isFraud         1.000000e+00  \n",
       "isFlaggedFraud  1.000000e+00  \n",
       "\n",
       "[8 rows x 27 columns]"
      ]
     },
     "execution_count": 10,
     "metadata": {},
     "output_type": "execute_result"
    }
   ],
   "source": [
    "df.describe(percentiles=[0.01, 0.02,0.03, 0.04, 0.05, 0.1, .2, .25, .3, .35, .4, .45, .5, .75,.80,.85, .9, .95, .96, .97, .98, .99]).T"
   ]
  },
  {
   "cell_type": "code",
   "execution_count": 10,
   "id": "af8b0f2e",
   "metadata": {
    "scrolled": true
   },
   "outputs": [
    {
     "data": {
      "text/plain": [
       "{'whiskers': [<matplotlib.lines.Line2D at 0x1cea74bef70>,\n",
       "  <matplotlib.lines.Line2D at 0x1cea74d1280>],\n",
       " 'caps': [<matplotlib.lines.Line2D at 0x1cea74d1610>,\n",
       "  <matplotlib.lines.Line2D at 0x1cea74d19a0>],\n",
       " 'boxes': [<matplotlib.lines.Line2D at 0x1cea74beb20>],\n",
       " 'medians': [<matplotlib.lines.Line2D at 0x1cea74d1d30>],\n",
       " 'fliers': [<matplotlib.lines.Line2D at 0x1cea74db100>],\n",
       " 'means': []}"
      ]
     },
     "execution_count": 10,
     "metadata": {},
     "output_type": "execute_result"
    },
    {
     "data": {
      "image/png": "[encoded data removed]",
      "text/plain": [
       "<Figure size 432x288 with 1 Axes>"
      ]
     },
     "metadata": {
      "needs_background": "light"
     },
     "output_type": "display_data"
    }
   ],
   "source": [
    "plt.boxplot(df[\"amount\"])"
   ]
  },
  {
   "cell_type": "code",
   "execution_count": 11,
   "id": "f82853a5",
   "metadata": {},
   "outputs": [],
   "source": [
    "df[\"amount\"]=np.where(df[\"amount\"]>7, 7, df[\"amount\"])"
   ]
  },
  {
   "cell_type": "code",
   "execution_count": 12,
   "id": "84e1b2d4",
   "metadata": {},
   "outputs": [
    {
     "data": {
      "text/plain": [
       "{'whiskers': [<matplotlib.lines.Line2D at 0x25a31e8a790>,\n",
       "  <matplotlib.lines.Line2D at 0x25a31e8aa60>],\n",
       " 'caps': [<matplotlib.lines.Line2D at 0x25a31e8adf0>,\n",
       "  <matplotlib.lines.Line2D at 0x25a31e981c0>],\n",
       " 'boxes': [<matplotlib.lines.Line2D at 0x25a31e8a340>],\n",
       " 'medians': [<matplotlib.lines.Line2D at 0x25a31e98550>],\n",
       " 'fliers': [<matplotlib.lines.Line2D at 0x25a31e988e0>],\n",
       " 'means': []}"
      ]
     },
     "execution_count": 12,
     "metadata": {},
     "output_type": "execute_result"
    },
    {
     "data": {
      "image/png": "[encoded data removed]",
      "text/plain": [
       "<Figure size 432x288 with 1 Axes>"
      ]
     },
     "metadata": {
      "needs_background": "light"
     },
     "output_type": "display_data"
    }
   ],
   "source": [
    "plt.boxplot(df[\"amount\"])"
   ]
  },
  {
   "cell_type": "code",
   "execution_count": 11,
   "id": "3a56eb00",
   "metadata": {},
   "outputs": [
    {
     "data": {
      "text/plain": [
       "{'whiskers': [<matplotlib.lines.Line2D at 0x1cea7530d30>,\n",
       "  <matplotlib.lines.Line2D at 0x1cea7540100>],\n",
       " 'caps': [<matplotlib.lines.Line2D at 0x1cea7540490>,\n",
       "  <matplotlib.lines.Line2D at 0x1cea7540820>],\n",
       " 'boxes': [<matplotlib.lines.Line2D at 0x1cea75309a0>],\n",
       " 'medians': [<matplotlib.lines.Line2D at 0x1cea7540bb0>],\n",
       " 'fliers': [<matplotlib.lines.Line2D at 0x1cea7540f40>],\n",
       " 'means': []}"
      ]
     },
     "execution_count": 11,
     "metadata": {},
     "output_type": "execute_result"
    },
    {
     "data": {
      "image/png": "[encoded data removed]",
      "text/plain": [
       "<Figure size 432x288 with 1 Axes>"
      ]
     },
     "metadata": {
      "needs_background": "light"
     },
     "output_type": "display_data"
    }
   ],
   "source": [
    "plt.boxplot(df[\"oldbalanceDest\"])"
   ]
  },
  {
   "cell_type": "code",
   "execution_count": 12,
   "id": "748fb4d5",
   "metadata": {},
   "outputs": [
    {
     "data": {
      "text/plain": [
       "{'whiskers': [<matplotlib.lines.Line2D at 0x1cea75a79a0>,\n",
       "  <matplotlib.lines.Line2D at 0x1cea75a7d30>],\n",
       " 'caps': [<matplotlib.lines.Line2D at 0x1cea75b5100>,\n",
       "  <matplotlib.lines.Line2D at 0x1cea75b5490>],\n",
       " 'boxes': [<matplotlib.lines.Line2D at 0x1cea75a7610>],\n",
       " 'medians': [<matplotlib.lines.Line2D at 0x1cea75b5820>],\n",
       " 'fliers': [<matplotlib.lines.Line2D at 0x1cea75b5bb0>],\n",
       " 'means': []}"
      ]
     },
     "execution_count": 12,
     "metadata": {},
     "output_type": "execute_result"
    },
    {
     "data": {
      "image/png": "[encoded data removed]",
      "text/plain": [
       "<Figure size 432x288 with 1 Axes>"
      ]
     },
     "metadata": {
      "needs_background": "light"
     },
     "output_type": "display_data"
    }
   ],
   "source": [
    "plt.boxplot(df[\"oldbalanceOrg\"])"
   ]
  },
  {
   "cell_type": "code",
   "execution_count": 13,
   "id": "a65cc24a",
   "metadata": {},
   "outputs": [
    {
     "data": {
      "text/plain": [
       "{'whiskers': [<matplotlib.lines.Line2D at 0x1cea7612a90>,\n",
       "  <matplotlib.lines.Line2D at 0x1cea7612e20>],\n",
       " 'caps': [<matplotlib.lines.Line2D at 0x1cea76201f0>,\n",
       "  <matplotlib.lines.Line2D at 0x1cea7620580>],\n",
       " 'boxes': [<matplotlib.lines.Line2D at 0x1cea7612700>],\n",
       " 'medians': [<matplotlib.lines.Line2D at 0x1cea7620910>],\n",
       " 'fliers': [<matplotlib.lines.Line2D at 0x1cea7620ca0>],\n",
       " 'means': []}"
      ]
     },
     "execution_count": 13,
     "metadata": {},
     "output_type": "execute_result"
    },
    {
     "data": {
      "image/png": "[encoded data removed]",
      "text/plain": [
       "<Figure size 432x288 with 1 Axes>"
      ]
     },
     "metadata": {
      "needs_background": "light"
     },
     "output_type": "display_data"
    }
   ],
   "source": [
    "plt.boxplot(df[\"newbalanceDest\"])"
   ]
  },
  {
   "cell_type": "code",
   "execution_count": 15,
   "id": "b9c191e0",
   "metadata": {},
   "outputs": [
    {
     "data": {
      "text/plain": [
       "{'whiskers': [<matplotlib.lines.Line2D at 0x1cea77d6430>,\n",
       "  <matplotlib.lines.Line2D at 0x1cea77d67c0>],\n",
       " 'caps': [<matplotlib.lines.Line2D at 0x1cea77d6b50>,\n",
       "  <matplotlib.lines.Line2D at 0x1cea77d6ee0>],\n",
       " 'boxes': [<matplotlib.lines.Line2D at 0x1cea77d60a0>],\n",
       " 'medians': [<matplotlib.lines.Line2D at 0x1cea77e32b0>],\n",
       " 'fliers': [<matplotlib.lines.Line2D at 0x1cea77e3640>],\n",
       " 'means': []}"
      ]
     },
     "execution_count": 15,
     "metadata": {},
     "output_type": "execute_result"
    },
    {
     "data": {
      "image/png": "[encoded data removed]",
      "text/plain": [
       "<Figure size 432x288 with 1 Axes>"
      ]
     },
     "metadata": {
      "needs_background": "light"
     },
     "output_type": "display_data"
    }
   ],
   "source": [
    "plt.boxplot(df[\"newbalanceOrig\"])"
   ]
  },
  {
   "cell_type": "markdown",
   "id": "1765ba21",
   "metadata": {},
   "source": [
    "## Variable selection "
   ]
  },
  {
   "cell_type": "code",
   "execution_count": 13,
   "id": "414e26aa",
   "metadata": {},
   "outputs": [],
   "source": [
    "cr=df.corr()"
   ]
  },
  {
   "cell_type": "code",
   "execution_count": 14,
   "id": "eb8ebb74",
   "metadata": {},
   "outputs": [
    {
     "data": {
      "text/html": [
       "<div>\n",
       "<style scoped>\n",
       "    .dataframe tbody tr th:only-of-type {\n",
       "        vertical-align: middle;\n",
       "    }\n",
       "\n",
       "    .dataframe tbody tr th {\n",
       "        vertical-align: top;\n",
       "    }\n",
       "\n",
       "    .dataframe thead th {\n",
       "        text-align: right;\n",
       "    }\n",
       "</style>\n",
       "<table border=\"1\" class=\"dataframe\">\n",
       "  <thead>\n",
       "    <tr style=\"text-align: right;\">\n",
       "      <th></th>\n",
       "      <th>step</th>\n",
       "      <th>amount</th>\n",
       "      <th>oldbalanceOrg</th>\n",
       "      <th>newbalanceOrig</th>\n",
       "      <th>oldbalanceDest</th>\n",
       "      <th>newbalanceDest</th>\n",
       "      <th>isFraud</th>\n",
       "      <th>isFlaggedFraud</th>\n",
       "    </tr>\n",
       "  </thead>\n",
       "  <tbody>\n",
       "    <tr>\n",
       "      <th>step</th>\n",
       "      <td>1.000000</td>\n",
       "      <td>-0.000251</td>\n",
       "      <td>-0.010058</td>\n",
       "      <td>-0.010299</td>\n",
       "      <td>0.027665</td>\n",
       "      <td>0.025888</td>\n",
       "      <td>0.031578</td>\n",
       "      <td>0.003277</td>\n",
       "    </tr>\n",
       "    <tr>\n",
       "      <th>amount</th>\n",
       "      <td>-0.000251</td>\n",
       "      <td>1.000000</td>\n",
       "      <td>0.002648</td>\n",
       "      <td>0.002692</td>\n",
       "      <td>0.002898</td>\n",
       "      <td>0.003032</td>\n",
       "      <td>-0.009503</td>\n",
       "      <td>0.000017</td>\n",
       "    </tr>\n",
       "    <tr>\n",
       "      <th>oldbalanceOrg</th>\n",
       "      <td>-0.010058</td>\n",
       "      <td>0.002648</td>\n",
       "      <td>1.000000</td>\n",
       "      <td>0.998803</td>\n",
       "      <td>0.066243</td>\n",
       "      <td>0.042029</td>\n",
       "      <td>0.010154</td>\n",
       "      <td>0.003835</td>\n",
       "    </tr>\n",
       "    <tr>\n",
       "      <th>newbalanceOrig</th>\n",
       "      <td>-0.010299</td>\n",
       "      <td>0.002692</td>\n",
       "      <td>0.998803</td>\n",
       "      <td>1.000000</td>\n",
       "      <td>0.067812</td>\n",
       "      <td>0.041837</td>\n",
       "      <td>-0.008148</td>\n",
       "      <td>0.003776</td>\n",
       "    </tr>\n",
       "    <tr>\n",
       "      <th>oldbalanceDest</th>\n",
       "      <td>0.027665</td>\n",
       "      <td>0.002898</td>\n",
       "      <td>0.066243</td>\n",
       "      <td>0.067812</td>\n",
       "      <td>1.000000</td>\n",
       "      <td>0.976569</td>\n",
       "      <td>-0.005885</td>\n",
       "      <td>-0.000513</td>\n",
       "    </tr>\n",
       "    <tr>\n",
       "      <th>newbalanceDest</th>\n",
       "      <td>0.025888</td>\n",
       "      <td>0.003032</td>\n",
       "      <td>0.042029</td>\n",
       "      <td>0.041837</td>\n",
       "      <td>0.976569</td>\n",
       "      <td>1.000000</td>\n",
       "      <td>0.000535</td>\n",
       "      <td>-0.000529</td>\n",
       "    </tr>\n",
       "    <tr>\n",
       "      <th>isFraud</th>\n",
       "      <td>0.031578</td>\n",
       "      <td>-0.009503</td>\n",
       "      <td>0.010154</td>\n",
       "      <td>-0.008148</td>\n",
       "      <td>-0.005885</td>\n",
       "      <td>0.000535</td>\n",
       "      <td>1.000000</td>\n",
       "      <td>0.044109</td>\n",
       "    </tr>\n",
       "    <tr>\n",
       "      <th>isFlaggedFraud</th>\n",
       "      <td>0.003277</td>\n",
       "      <td>0.000017</td>\n",
       "      <td>0.003835</td>\n",
       "      <td>0.003776</td>\n",
       "      <td>-0.000513</td>\n",
       "      <td>-0.000529</td>\n",
       "      <td>0.044109</td>\n",
       "      <td>1.000000</td>\n",
       "    </tr>\n",
       "  </tbody>\n",
       "</table>\n",
       "</div>"
      ],
      "text/plain": [
       "                    step    amount  oldbalanceOrg  newbalanceOrig  \\\n",
       "step            1.000000 -0.000251      -0.010058       -0.010299   \n",
       "amount         -0.000251  1.000000       0.002648        0.002692   \n",
       "oldbalanceOrg  -0.010058  0.002648       1.000000        0.998803   \n",
       "newbalanceOrig -0.010299  0.002692       0.998803        1.000000   \n",
       "oldbalanceDest  0.027665  0.002898       0.066243        0.067812   \n",
       "newbalanceDest  0.025888  0.003032       0.042029        0.041837   \n",
       "isFraud         0.031578 -0.009503       0.010154       -0.008148   \n",
       "isFlaggedFraud  0.003277  0.000017       0.003835        0.003776   \n",
       "\n",
       "                oldbalanceDest  newbalanceDest   isFraud  isFlaggedFraud  \n",
       "step                  0.027665        0.025888  0.031578        0.003277  \n",
       "amount                0.002898        0.003032 -0.009503        0.000017  \n",
       "oldbalanceOrg         0.066243        0.042029  0.010154        0.003835  \n",
       "newbalanceOrig        0.067812        0.041837 -0.008148        0.003776  \n",
       "oldbalanceDest        1.000000        0.976569 -0.005885       -0.000513  \n",
       "newbalanceDest        0.976569        1.000000  0.000535       -0.000529  \n",
       "isFraud              -0.005885        0.000535  1.000000        0.044109  \n",
       "isFlaggedFraud       -0.000513       -0.000529  0.044109        1.000000  "
      ]
     },
     "execution_count": 14,
     "metadata": {},
     "output_type": "execute_result"
    }
   ],
   "source": [
    "cr"
   ]
  },
  {
   "cell_type": "code",
   "execution_count": 15,
   "id": "da16fb49",
   "metadata": {},
   "outputs": [
    {
     "data": {
      "image/png": "[encoded data removed]",
      "text/plain": [
       "<Figure size 1440x1440 with 72 Axes>"
      ]
     },
     "metadata": {
      "needs_background": "light"
     },
     "output_type": "display_data"
    }
   ],
   "source": [
    "sns.pairplot(cr)\n",
    "plt.show()"
   ]
  },
  {
   "cell_type": "code",
   "execution_count": 16,
   "id": "55578e30",
   "metadata": {},
   "outputs": [],
   "source": [
    "df1=df.drop(['nameOrig',\"nameDest\",], axis = 1)"
   ]
  },
  {
   "cell_type": "code",
   "execution_count": 17,
   "id": "2257a0d9",
   "metadata": {},
   "outputs": [
    {
     "data": {
      "text/html": [
       "<div>\n",
       "<style scoped>\n",
       "    .dataframe tbody tr th:only-of-type {\n",
       "        vertical-align: middle;\n",
       "    }\n",
       "\n",
       "    .dataframe tbody tr th {\n",
       "        vertical-align: top;\n",
       "    }\n",
       "\n",
       "    .dataframe thead th {\n",
       "        text-align: right;\n",
       "    }\n",
       "</style>\n",
       "<table border=\"1\" class=\"dataframe\">\n",
       "  <thead>\n",
       "    <tr style=\"text-align: right;\">\n",
       "      <th></th>\n",
       "      <th>step</th>\n",
       "      <th>type</th>\n",
       "      <th>amount</th>\n",
       "      <th>oldbalanceOrg</th>\n",
       "      <th>newbalanceOrig</th>\n",
       "      <th>oldbalanceDest</th>\n",
       "      <th>newbalanceDest</th>\n",
       "      <th>isFraud</th>\n",
       "      <th>isFlaggedFraud</th>\n",
       "    </tr>\n",
       "  </thead>\n",
       "  <tbody>\n",
       "    <tr>\n",
       "      <th>0</th>\n",
       "      <td>1</td>\n",
       "      <td>PAYMENT</td>\n",
       "      <td>7.0</td>\n",
       "      <td>170136.00</td>\n",
       "      <td>160296.36</td>\n",
       "      <td>0.00</td>\n",
       "      <td>0.00</td>\n",
       "      <td>0</td>\n",
       "      <td>0</td>\n",
       "    </tr>\n",
       "    <tr>\n",
       "      <th>1</th>\n",
       "      <td>1</td>\n",
       "      <td>PAYMENT</td>\n",
       "      <td>7.0</td>\n",
       "      <td>21249.00</td>\n",
       "      <td>19384.72</td>\n",
       "      <td>0.00</td>\n",
       "      <td>0.00</td>\n",
       "      <td>0</td>\n",
       "      <td>0</td>\n",
       "    </tr>\n",
       "    <tr>\n",
       "      <th>2</th>\n",
       "      <td>1</td>\n",
       "      <td>TRANSFER</td>\n",
       "      <td>7.0</td>\n",
       "      <td>181.00</td>\n",
       "      <td>0.00</td>\n",
       "      <td>0.00</td>\n",
       "      <td>0.00</td>\n",
       "      <td>1</td>\n",
       "      <td>0</td>\n",
       "    </tr>\n",
       "    <tr>\n",
       "      <th>3</th>\n",
       "      <td>1</td>\n",
       "      <td>CASH_OUT</td>\n",
       "      <td>7.0</td>\n",
       "      <td>181.00</td>\n",
       "      <td>0.00</td>\n",
       "      <td>21182.00</td>\n",
       "      <td>0.00</td>\n",
       "      <td>1</td>\n",
       "      <td>0</td>\n",
       "    </tr>\n",
       "    <tr>\n",
       "      <th>4</th>\n",
       "      <td>1</td>\n",
       "      <td>PAYMENT</td>\n",
       "      <td>7.0</td>\n",
       "      <td>41554.00</td>\n",
       "      <td>29885.86</td>\n",
       "      <td>0.00</td>\n",
       "      <td>0.00</td>\n",
       "      <td>0</td>\n",
       "      <td>0</td>\n",
       "    </tr>\n",
       "    <tr>\n",
       "      <th>...</th>\n",
       "      <td>...</td>\n",
       "      <td>...</td>\n",
       "      <td>...</td>\n",
       "      <td>...</td>\n",
       "      <td>...</td>\n",
       "      <td>...</td>\n",
       "      <td>...</td>\n",
       "      <td>...</td>\n",
       "      <td>...</td>\n",
       "    </tr>\n",
       "    <tr>\n",
       "      <th>6362615</th>\n",
       "      <td>743</td>\n",
       "      <td>CASH_OUT</td>\n",
       "      <td>7.0</td>\n",
       "      <td>339682.13</td>\n",
       "      <td>0.00</td>\n",
       "      <td>0.00</td>\n",
       "      <td>339682.13</td>\n",
       "      <td>1</td>\n",
       "      <td>0</td>\n",
       "    </tr>\n",
       "    <tr>\n",
       "      <th>6362616</th>\n",
       "      <td>743</td>\n",
       "      <td>TRANSFER</td>\n",
       "      <td>7.0</td>\n",
       "      <td>6311409.28</td>\n",
       "      <td>0.00</td>\n",
       "      <td>0.00</td>\n",
       "      <td>0.00</td>\n",
       "      <td>1</td>\n",
       "      <td>0</td>\n",
       "    </tr>\n",
       "    <tr>\n",
       "      <th>6362617</th>\n",
       "      <td>743</td>\n",
       "      <td>CASH_OUT</td>\n",
       "      <td>7.0</td>\n",
       "      <td>6311409.28</td>\n",
       "      <td>0.00</td>\n",
       "      <td>68488.84</td>\n",
       "      <td>6379898.11</td>\n",
       "      <td>1</td>\n",
       "      <td>0</td>\n",
       "    </tr>\n",
       "    <tr>\n",
       "      <th>6362618</th>\n",
       "      <td>743</td>\n",
       "      <td>TRANSFER</td>\n",
       "      <td>7.0</td>\n",
       "      <td>850002.52</td>\n",
       "      <td>0.00</td>\n",
       "      <td>0.00</td>\n",
       "      <td>0.00</td>\n",
       "      <td>1</td>\n",
       "      <td>0</td>\n",
       "    </tr>\n",
       "    <tr>\n",
       "      <th>6362619</th>\n",
       "      <td>743</td>\n",
       "      <td>CASH_OUT</td>\n",
       "      <td>7.0</td>\n",
       "      <td>850002.52</td>\n",
       "      <td>0.00</td>\n",
       "      <td>6510099.11</td>\n",
       "      <td>7360101.63</td>\n",
       "      <td>1</td>\n",
       "      <td>0</td>\n",
       "    </tr>\n",
       "  </tbody>\n",
       "</table>\n",
       "<p>6362620 rows × 9 columns</p>\n",
       "</div>"
      ],
      "text/plain": [
       "         step      type  amount  oldbalanceOrg  newbalanceOrig  \\\n",
       "0           1   PAYMENT     7.0      170136.00       160296.36   \n",
       "1           1   PAYMENT     7.0       21249.00        19384.72   \n",
       "2           1  TRANSFER     7.0         181.00            0.00   \n",
       "3           1  CASH_OUT     7.0         181.00            0.00   \n",
       "4           1   PAYMENT     7.0       41554.00        29885.86   \n",
       "...       ...       ...     ...            ...             ...   \n",
       "6362615   743  CASH_OUT     7.0      339682.13            0.00   \n",
       "6362616   743  TRANSFER     7.0     6311409.28            0.00   \n",
       "6362617   743  CASH_OUT     7.0     6311409.28            0.00   \n",
       "6362618   743  TRANSFER     7.0      850002.52            0.00   \n",
       "6362619   743  CASH_OUT     7.0      850002.52            0.00   \n",
       "\n",
       "         oldbalanceDest  newbalanceDest  isFraud  isFlaggedFraud  \n",
       "0                  0.00            0.00        0               0  \n",
       "1                  0.00            0.00        0               0  \n",
       "2                  0.00            0.00        1               0  \n",
       "3              21182.00            0.00        1               0  \n",
       "4                  0.00            0.00        0               0  \n",
       "...                 ...             ...      ...             ...  \n",
       "6362615            0.00       339682.13        1               0  \n",
       "6362616            0.00            0.00        1               0  \n",
       "6362617        68488.84      6379898.11        1               0  \n",
       "6362618            0.00            0.00        1               0  \n",
       "6362619      6510099.11      7360101.63        1               0  \n",
       "\n",
       "[6362620 rows x 9 columns]"
      ]
     },
     "execution_count": 17,
     "metadata": {},
     "output_type": "execute_result"
    }
   ],
   "source": [
    "df1"
   ]
  },
  {
   "cell_type": "code",
   "execution_count": 18,
   "id": "eee85dcc",
   "metadata": {},
   "outputs": [],
   "source": [
    "df2=pd.get_dummies(df1, columns=[\"type\",],prefix=[\"type\",],drop_first=True)"
   ]
  },
  {
   "cell_type": "code",
   "execution_count": 19,
   "id": "88e22abe",
   "metadata": {},
   "outputs": [
    {
     "data": {
      "text/html": [
       "<div>\n",
       "<style scoped>\n",
       "    .dataframe tbody tr th:only-of-type {\n",
       "        vertical-align: middle;\n",
       "    }\n",
       "\n",
       "    .dataframe tbody tr th {\n",
       "        vertical-align: top;\n",
       "    }\n",
       "\n",
       "    .dataframe thead th {\n",
       "        text-align: right;\n",
       "    }\n",
       "</style>\n",
       "<table border=\"1\" class=\"dataframe\">\n",
       "  <thead>\n",
       "    <tr style=\"text-align: right;\">\n",
       "      <th></th>\n",
       "      <th>step</th>\n",
       "      <th>amount</th>\n",
       "      <th>oldbalanceOrg</th>\n",
       "      <th>newbalanceOrig</th>\n",
       "      <th>oldbalanceDest</th>\n",
       "      <th>newbalanceDest</th>\n",
       "      <th>isFraud</th>\n",
       "      <th>isFlaggedFraud</th>\n",
       "      <th>type_CASH_OUT</th>\n",
       "      <th>type_DEBIT</th>\n",
       "      <th>type_PAYMENT</th>\n",
       "      <th>type_TRANSFER</th>\n",
       "    </tr>\n",
       "  </thead>\n",
       "  <tbody>\n",
       "    <tr>\n",
       "      <th>0</th>\n",
       "      <td>1</td>\n",
       "      <td>7.0</td>\n",
       "      <td>170136.00</td>\n",
       "      <td>160296.36</td>\n",
       "      <td>0.00</td>\n",
       "      <td>0.00</td>\n",
       "      <td>0</td>\n",
       "      <td>0</td>\n",
       "      <td>0</td>\n",
       "      <td>0</td>\n",
       "      <td>1</td>\n",
       "      <td>0</td>\n",
       "    </tr>\n",
       "    <tr>\n",
       "      <th>1</th>\n",
       "      <td>1</td>\n",
       "      <td>7.0</td>\n",
       "      <td>21249.00</td>\n",
       "      <td>19384.72</td>\n",
       "      <td>0.00</td>\n",
       "      <td>0.00</td>\n",
       "      <td>0</td>\n",
       "      <td>0</td>\n",
       "      <td>0</td>\n",
       "      <td>0</td>\n",
       "      <td>1</td>\n",
       "      <td>0</td>\n",
       "    </tr>\n",
       "    <tr>\n",
       "      <th>2</th>\n",
       "      <td>1</td>\n",
       "      <td>7.0</td>\n",
       "      <td>181.00</td>\n",
       "      <td>0.00</td>\n",
       "      <td>0.00</td>\n",
       "      <td>0.00</td>\n",
       "      <td>1</td>\n",
       "      <td>0</td>\n",
       "      <td>0</td>\n",
       "      <td>0</td>\n",
       "      <td>0</td>\n",
       "      <td>1</td>\n",
       "    </tr>\n",
       "    <tr>\n",
       "      <th>3</th>\n",
       "      <td>1</td>\n",
       "      <td>7.0</td>\n",
       "      <td>181.00</td>\n",
       "      <td>0.00</td>\n",
       "      <td>21182.00</td>\n",
       "      <td>0.00</td>\n",
       "      <td>1</td>\n",
       "      <td>0</td>\n",
       "      <td>1</td>\n",
       "      <td>0</td>\n",
       "      <td>0</td>\n",
       "      <td>0</td>\n",
       "    </tr>\n",
       "    <tr>\n",
       "      <th>4</th>\n",
       "      <td>1</td>\n",
       "      <td>7.0</td>\n",
       "      <td>41554.00</td>\n",
       "      <td>29885.86</td>\n",
       "      <td>0.00</td>\n",
       "      <td>0.00</td>\n",
       "      <td>0</td>\n",
       "      <td>0</td>\n",
       "      <td>0</td>\n",
       "      <td>0</td>\n",
       "      <td>1</td>\n",
       "      <td>0</td>\n",
       "    </tr>\n",
       "    <tr>\n",
       "      <th>...</th>\n",
       "      <td>...</td>\n",
       "      <td>...</td>\n",
       "      <td>...</td>\n",
       "      <td>...</td>\n",
       "      <td>...</td>\n",
       "      <td>...</td>\n",
       "      <td>...</td>\n",
       "      <td>...</td>\n",
       "      <td>...</td>\n",
       "      <td>...</td>\n",
       "      <td>...</td>\n",
       "      <td>...</td>\n",
       "    </tr>\n",
       "    <tr>\n",
       "      <th>6362615</th>\n",
       "      <td>743</td>\n",
       "      <td>7.0</td>\n",
       "      <td>339682.13</td>\n",
       "      <td>0.00</td>\n",
       "      <td>0.00</td>\n",
       "      <td>339682.13</td>\n",
       "      <td>1</td>\n",
       "      <td>0</td>\n",
       "      <td>1</td>\n",
       "      <td>0</td>\n",
       "      <td>0</td>\n",
       "      <td>0</td>\n",
       "    </tr>\n",
       "    <tr>\n",
       "      <th>6362616</th>\n",
       "      <td>743</td>\n",
       "      <td>7.0</td>\n",
       "      <td>6311409.28</td>\n",
       "      <td>0.00</td>\n",
       "      <td>0.00</td>\n",
       "      <td>0.00</td>\n",
       "      <td>1</td>\n",
       "      <td>0</td>\n",
       "      <td>0</td>\n",
       "      <td>0</td>\n",
       "      <td>0</td>\n",
       "      <td>1</td>\n",
       "    </tr>\n",
       "    <tr>\n",
       "      <th>6362617</th>\n",
       "      <td>743</td>\n",
       "      <td>7.0</td>\n",
       "      <td>6311409.28</td>\n",
       "      <td>0.00</td>\n",
       "      <td>68488.84</td>\n",
       "      <td>6379898.11</td>\n",
       "      <td>1</td>\n",
       "      <td>0</td>\n",
       "      <td>1</td>\n",
       "      <td>0</td>\n",
       "      <td>0</td>\n",
       "      <td>0</td>\n",
       "    </tr>\n",
       "    <tr>\n",
       "      <th>6362618</th>\n",
       "      <td>743</td>\n",
       "      <td>7.0</td>\n",
       "      <td>850002.52</td>\n",
       "      <td>0.00</td>\n",
       "      <td>0.00</td>\n",
       "      <td>0.00</td>\n",
       "      <td>1</td>\n",
       "      <td>0</td>\n",
       "      <td>0</td>\n",
       "      <td>0</td>\n",
       "      <td>0</td>\n",
       "      <td>1</td>\n",
       "    </tr>\n",
       "    <tr>\n",
       "      <th>6362619</th>\n",
       "      <td>743</td>\n",
       "      <td>7.0</td>\n",
       "      <td>850002.52</td>\n",
       "      <td>0.00</td>\n",
       "      <td>6510099.11</td>\n",
       "      <td>7360101.63</td>\n",
       "      <td>1</td>\n",
       "      <td>0</td>\n",
       "      <td>1</td>\n",
       "      <td>0</td>\n",
       "      <td>0</td>\n",
       "      <td>0</td>\n",
       "    </tr>\n",
       "  </tbody>\n",
       "</table>\n",
       "<p>6362620 rows × 12 columns</p>\n",
       "</div>"
      ],
      "text/plain": [
       "         step  amount  oldbalanceOrg  newbalanceOrig  oldbalanceDest  \\\n",
       "0           1     7.0      170136.00       160296.36            0.00   \n",
       "1           1     7.0       21249.00        19384.72            0.00   \n",
       "2           1     7.0         181.00            0.00            0.00   \n",
       "3           1     7.0         181.00            0.00        21182.00   \n",
       "4           1     7.0       41554.00        29885.86            0.00   \n",
       "...       ...     ...            ...             ...             ...   \n",
       "6362615   743     7.0      339682.13            0.00            0.00   \n",
       "6362616   743     7.0     6311409.28            0.00            0.00   \n",
       "6362617   743     7.0     6311409.28            0.00        68488.84   \n",
       "6362618   743     7.0      850002.52            0.00            0.00   \n",
       "6362619   743     7.0      850002.52            0.00      6510099.11   \n",
       "\n",
       "         newbalanceDest  isFraud  isFlaggedFraud  type_CASH_OUT  type_DEBIT  \\\n",
       "0                  0.00        0               0              0           0   \n",
       "1                  0.00        0               0              0           0   \n",
       "2                  0.00        1               0              0           0   \n",
       "3                  0.00        1               0              1           0   \n",
       "4                  0.00        0               0              0           0   \n",
       "...                 ...      ...             ...            ...         ...   \n",
       "6362615       339682.13        1               0              1           0   \n",
       "6362616            0.00        1               0              0           0   \n",
       "6362617      6379898.11        1               0              1           0   \n",
       "6362618            0.00        1               0              0           0   \n",
       "6362619      7360101.63        1               0              1           0   \n",
       "\n",
       "         type_PAYMENT  type_TRANSFER  \n",
       "0                   1              0  \n",
       "1                   1              0  \n",
       "2                   0              1  \n",
       "3                   0              0  \n",
       "4                   1              0  \n",
       "...               ...            ...  \n",
       "6362615             0              0  \n",
       "6362616             0              1  \n",
       "6362617             0              0  \n",
       "6362618             0              1  \n",
       "6362619             0              0  \n",
       "\n",
       "[6362620 rows x 12 columns]"
      ]
     },
     "execution_count": 19,
     "metadata": {},
     "output_type": "execute_result"
    }
   ],
   "source": [
    "df2"
   ]
  },
  {
   "cell_type": "code",
   "execution_count": 20,
   "id": "88603ab1",
   "metadata": {},
   "outputs": [],
   "source": [
    "y=df2[\"isFraud\"]\n",
    "X=df2.drop(columns=[\"isFraud\"])"
   ]
  },
  {
   "cell_type": "markdown",
   "id": "1fc0119c",
   "metadata": {},
   "source": [
    "### splitting train and test data"
   ]
  },
  {
   "cell_type": "code",
   "execution_count": 21,
   "id": "55bfc8d6",
   "metadata": {},
   "outputs": [],
   "source": [
    "X_train, X_test, y_train, y_test=train_test_split(X,y, test_size=0.3, random_state=99)"
   ]
  },
  {
   "cell_type": "code",
   "execution_count": 22,
   "id": "9db0296f",
   "metadata": {},
   "outputs": [],
   "source": [
    "log=LogisticRegression()"
   ]
  },
  {
   "cell_type": "code",
   "execution_count": 23,
   "id": "fb65253c",
   "metadata": {},
   "outputs": [
    {
     "data": {
      "text/plain": [
       "LogisticRegression()"
      ]
     },
     "execution_count": 23,
     "metadata": {},
     "output_type": "execute_result"
    }
   ],
   "source": [
    "log.fit(X_train, y_train)"
   ]
  },
  {
   "cell_type": "code",
   "execution_count": 24,
   "id": "6e783c41",
   "metadata": {},
   "outputs": [
    {
     "name": "stdout",
     "output_type": "stream",
     "text": [
      "Train Accuracy 0.9992161809353469\n",
      "Test Accuracy 0.9992283053207641\n"
     ]
    }
   ],
   "source": [
    "print(\"Train Accuracy\", log.score(X_train, y_train))\n",
    "print(\"Test Accuracy\", log.score(X_test, y_test))"
   ]
  },
  {
   "cell_type": "code",
   "execution_count": 31,
   "id": "fa122c7d",
   "metadata": {},
   "outputs": [
    {
     "name": "stdout",
     "output_type": "stream",
     "text": [
      "Train Accuracy 0.9987076303247944\n",
      "Test Accuracy 0.9987127944148794\n"
     ]
    }
   ],
   "source": [
    "# print(\"Train Accuracy\", log.score(X_train, y_train))\n",
    "# print(\"Test Accuracy\", log.score(X_test, y_test))"
   ]
  },
  {
   "cell_type": "code",
   "execution_count": 25,
   "id": "cadf2099",
   "metadata": {},
   "outputs": [],
   "source": [
    "pred_y_train=log.predict(X_train)  # It predict Classes\n",
    "pred_y_test=log.predict(X_test) # It predict Classes"
   ]
  },
  {
   "cell_type": "code",
   "execution_count": 26,
   "id": "f36d7c86",
   "metadata": {},
   "outputs": [
    {
     "name": "stdout",
     "output_type": "stream",
     "text": [
      "              precision    recall  f1-score   support\n",
      "\n",
      "           0       1.00      1.00      1.00   4448078\n",
      "           1       0.85      0.47      0.61      5756\n",
      "\n",
      "    accuracy                           1.00   4453834\n",
      "   macro avg       0.93      0.74      0.80   4453834\n",
      "weighted avg       1.00      1.00      1.00   4453834\n",
      "\n"
     ]
    }
   ],
   "source": [
    "print(metrics.classification_report(y_train, pred_y_train))"
   ]
  },
  {
   "cell_type": "code",
   "execution_count": 27,
   "id": "d485de4e",
   "metadata": {},
   "outputs": [
    {
     "name": "stdout",
     "output_type": "stream",
     "text": [
      "              precision    recall  f1-score   support\n",
      "\n",
      "           0       1.00      1.00      1.00   1906329\n",
      "           1       0.86      0.48      0.62      2457\n",
      "\n",
      "    accuracy                           1.00   1908786\n",
      "   macro avg       0.93      0.74      0.81   1908786\n",
      "weighted avg       1.00      1.00      1.00   1908786\n",
      "\n"
     ]
    }
   ],
   "source": [
    "print(metrics.classification_report(y_test, pred_y_test))"
   ]
  },
  {
   "cell_type": "code",
   "execution_count": 28,
   "id": "c100c3fd",
   "metadata": {},
   "outputs": [
    {
     "name": "stdout",
     "output_type": "stream",
     "text": [
      "              precision    recall  f1-score   support\n",
      "\n",
      "           0       1.00      1.00      1.00   4448078\n",
      "           1       0.79      0.51      0.62      5756\n",
      "\n",
      "    accuracy                           1.00   4453834\n",
      "   macro avg       0.89      0.75      0.81   4453834\n",
      "weighted avg       1.00      1.00      1.00   4453834\n",
      "\n",
      "++++++++++++++++++++++++++++++++++++++++++++++++++++\n",
      "              precision    recall  f1-score   support\n",
      "\n",
      "           0       1.00      1.00      1.00   1906329\n",
      "           1       0.79      0.52      0.63      2457\n",
      "\n",
      "    accuracy                           1.00   1908786\n",
      "   macro avg       0.89      0.76      0.81   1908786\n",
      "weighted avg       1.00      1.00      1.00   1908786\n",
      "\n"
     ]
    }
   ],
   "source": [
    "probs_train=pd.DataFrame(log.predict_proba(X_train), columns=[\"Prob_0\", \"Prob_1\"]) # It predict Probability of 1 and 0\n",
    "probs_test=pd.DataFrame(log.predict_proba(X_test), columns=[\"Prob_0\", \"Prob_1\"]) # It predict Probability of 1 and 0\n",
    "new_pred_y_train=np.where(probs_train[\"Prob_1\"]>=0.27,1,0)\n",
    "# new_pred_y_train\n",
    "new_pred_y_test=np.where(probs_test[\"Prob_1\"]>=0.27,1,0)\n",
    "# new_pred_y_test\n",
    "print(metrics.classification_report(y_train, new_pred_y_train))\n",
    "print(\"++++++++++++++++++++++++++++++++++++++++++++++++++++\")\n",
    "print(metrics.classification_report(y_test, new_pred_y_test))"
   ]
  },
  {
   "cell_type": "code",
   "execution_count": 29,
   "id": "8aade69b",
   "metadata": {},
   "outputs": [
    {
     "name": "stdout",
     "output_type": "stream",
     "text": [
      "              precision    recall  f1-score   support\n",
      "\n",
      "           0       1.00      1.00      1.00   4448078\n",
      "           1       0.72      0.54      0.62      5756\n",
      "\n",
      "    accuracy                           1.00   4453834\n",
      "   macro avg       0.86      0.77      0.81   4453834\n",
      "weighted avg       1.00      1.00      1.00   4453834\n",
      "\n",
      "++++++++++++++++++++++++++++++++++++++++++++++++++++\n",
      "              precision    recall  f1-score   support\n",
      "\n",
      "           0       1.00      1.00      1.00   1906329\n",
      "           1       0.72      0.54      0.62      2457\n",
      "\n",
      "    accuracy                           1.00   1908786\n",
      "   macro avg       0.86      0.77      0.81   1908786\n",
      "weighted avg       1.00      1.00      1.00   1908786\n",
      "\n"
     ]
    }
   ],
   "source": [
    "probs_train=pd.DataFrame(log.predict_proba(X_train), columns=[\"Prob_0\", \"Prob_1\"]) # It predict Probability of 1 and 0\n",
    "probs_test=pd.DataFrame(log.predict_proba(X_test), columns=[\"Prob_0\", \"Prob_1\"]) # It predict Probability of 1 and 0\n",
    "new_pred_y_train=np.where(probs_train[\"Prob_1\"]>=0.16,1,0)\n",
    "# new_pred_y_train\n",
    "new_pred_y_test=np.where(probs_test[\"Prob_1\"]>=0.16,1,0)\n",
    "# new_pred_y_test\n",
    "print(metrics.classification_report(y_train, new_pred_y_train))\n",
    "print(\"++++++++++++++++++++++++++++++++++++++++++++++++++++\")\n",
    "print(metrics.classification_report(y_test, new_pred_y_test))\n"
   ]
  },
  {
   "cell_type": "code",
   "execution_count": null,
   "id": "2dd50b4c",
   "metadata": {},
   "outputs": [],
   "source": []
  }
 ],
 "metadata": {
  "kernelspec": {
   "display_name": "Python 3 (ipykernel)",
   "language": "python",
   "name": "python3"
  },
  "language_info": {
   "codemirror_mode": {
    "name": "ipython",
    "version": 3
   },
   "file_extension": ".py",
   "mimetype": "text/x-python",
   "name": "python",
   "nbconvert_exporter": "python",
   "pygments_lexer": "ipython3",
   "version": "3.9.7"
  }
 },
 "nbformat": 4,
 "nbformat_minor": 5
}
